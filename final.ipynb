{
 "cells": [
  {
   "cell_type": "code",
   "execution_count": 1,
   "id": "e82e0fc7",
   "metadata": {},
   "outputs": [],
   "source": [
    "import gspread\n",
    "from oauth2client.service_account import ServiceAccountCredentials\n",
    "import pandas as pd\n"
   ]
  },
  {
   "cell_type": "code",
   "execution_count": 2,
   "id": "be5a26b4",
   "metadata": {},
   "outputs": [],
   "source": [
    "\n",
    "# Define scope\n",
    "scope = [\"https://spreadsheets.google.com/feeds\", \"https://www.googleapis.com/auth/drive\"]\n",
    "\n",
    "# Load credentials and authorize\n",
    "creds = ServiceAccountCredentials.from_json_keyfile_name(\"service-account.json\", scope)\n",
    "client = gspread.authorize(creds)\n"
   ]
  },
  {
   "cell_type": "code",
   "execution_count": 3,
   "id": "61cd7c44",
   "metadata": {},
   "outputs": [],
   "source": [
    "\n",
    "# Open the Google Sheet (by name or URL)\n",
    "spreadsheet = client.open(\"Amrutha Always Cancels\")\n",
    "sheet = spreadsheet.sheet1  # You can also use .worksheet(\"Sheet2\") if needed\n"
   ]
  },
  {
   "cell_type": "code",
   "execution_count": 4,
   "id": "608dc82e",
   "metadata": {},
   "outputs": [
    {
     "name": "stdout",
     "output_type": "stream",
     "text": [
      "['Timestamp', 'What event did she cancel?', 'When was the event?', 'What was her \"excuse\"?']\n"
     ]
    },
    {
     "data": {
      "text/html": [
       "<div>\n",
       "<style scoped>\n",
       "    .dataframe tbody tr th:only-of-type {\n",
       "        vertical-align: middle;\n",
       "    }\n",
       "\n",
       "    .dataframe tbody tr th {\n",
       "        vertical-align: top;\n",
       "    }\n",
       "\n",
       "    .dataframe thead th {\n",
       "        text-align: right;\n",
       "    }\n",
       "</style>\n",
       "<table border=\"1\" class=\"dataframe\">\n",
       "  <thead>\n",
       "    <tr style=\"text-align: right;\">\n",
       "      <th></th>\n",
       "      <th>Timestamp</th>\n",
       "      <th>What event did she cancel?</th>\n",
       "      <th>When was the event?</th>\n",
       "      <th>What was her \"excuse\"?</th>\n",
       "    </tr>\n",
       "  </thead>\n",
       "  <tbody>\n",
       "    <tr>\n",
       "      <th>0</th>\n",
       "      <td>6/24/2025 19:41:10</td>\n",
       "      <td>tgif</td>\n",
       "      <td>6/24/2025</td>\n",
       "      <td>couldnt leave work</td>\n",
       "    </tr>\n",
       "  </tbody>\n",
       "</table>\n",
       "</div>"
      ],
      "text/plain": [
       "            Timestamp What event did she cancel? When was the event?  \\\n",
       "0  6/24/2025 19:41:10                       tgif           6/24/2025   \n",
       "\n",
       "  What was her \"excuse\"?  \n",
       "0     couldnt leave work  "
      ]
     },
     "execution_count": 4,
     "metadata": {},
     "output_type": "execute_result"
    }
   ],
   "source": [
    "# Get all rows as raw data\n",
    "rows = sheet.get_all_values()\n",
    "\n",
    "# Check the header (row 0)\n",
    "raw_headers = rows[0]\n",
    "print(raw_headers)\n",
    "\n",
    "# Fix duplicates or empty strings\n",
    "headers = [f\"Column_{i}\" if h.strip() == \"\" else h for i, h in enumerate(raw_headers)]\n",
    "\n",
    "# Create DataFrame from remaining rows\n",
    "df = pd.DataFrame(rows[1:], columns=headers)\n",
    "df.head()\n"
   ]
  },
  {
   "cell_type": "code",
   "execution_count": null,
   "id": "b761a4cc",
   "metadata": {},
   "outputs": [],
   "source": []
  }
 ],
 "metadata": {
  "kernelspec": {
   "display_name": "venv",
   "language": "python",
   "name": "python3"
  },
  "language_info": {
   "codemirror_mode": {
    "name": "ipython",
    "version": 3
   },
   "file_extension": ".py",
   "mimetype": "text/x-python",
   "name": "python",
   "nbconvert_exporter": "python",
   "pygments_lexer": "ipython3",
   "version": "3.12.3"
  }
 },
 "nbformat": 4,
 "nbformat_minor": 5
}
